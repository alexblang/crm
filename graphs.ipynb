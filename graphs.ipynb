{
 "cells": [
  {
   "cell_type": "code",
   "execution_count": null,
   "metadata": {},
   "outputs": [],
   "source": [
    "import pandas as pd # für Datenimport\n",
    "import os # für Dateipfade\n",
    "\n",
    "customers_file = \"data/customers.csv\"\n",
    "customers_path = os.path.join(os.getcwd(), customers_file)\n",
    "customers_data = pd.read_csv(customers_path)\n",
    "offers_file = \"data/offers.csv\"\n",
    "offers_path = os.path.join(os.getcwd(), offers_file)\n",
    "offers_data = pd.read_csv(offers_path)\n",
    "contacts_file = \"data/contacts.csv\"\n",
    "contacts_path = os.path.join(os.getcwd(), contacts_file)\n",
    "contacts_data = pd.read_csv(contacts_path)"
   ]
  },
  {
   "cell_type": "code",
   "execution_count": null,
   "metadata": {},
   "outputs": [],
   "source": [
    "gender_data = customers_data.groupby([\"gender\"]).count()\n",
    "gender_data"
   ]
  },
  {
   "cell_type": "code",
   "execution_count": null,
   "metadata": {},
   "outputs": [],
   "source": [
    "gender_data.plot.pie(y=\"cust_id\", figsize=(10,10))"
   ]
  }
 ],
 "metadata": {
  "language_info": {
   "name": "python"
  },
  "orig_nbformat": 4
 },
 "nbformat": 4,
 "nbformat_minor": 2
}
