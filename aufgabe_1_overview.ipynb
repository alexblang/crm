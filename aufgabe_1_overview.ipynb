{
 "cells": [
  {
   "attachments": {},
   "cell_type": "markdown",
   "metadata": {},
   "source": [
    "## Als erstes die Framewerks importieren, die Daten laden und als Pandas DataFrames verwenden"
   ]
  },
  {
   "cell_type": "code",
   "execution_count": null,
   "metadata": {},
   "outputs": [],
   "source": [
    "import pandas as pd # für Datenimport\n",
    "import numpy as np\n",
    "import os # für Dateipfade\n",
    "import sys\n",
    "from datetime import datetime # um Datum und Uhrzeit im Überblick auszugeben\n",
    "\n",
    "\n",
    "\n",
    "# Dateinamen definieren und Dateipfade erstellen \n",
    "customers_file = \"data/customers.csv\"\n",
    "customers_path = os.path.join(os.getcwd(), customers_file)\n",
    "offers_file = \"data/offers.csv\"\n",
    "offers_path = os.path.join(os.getcwd(), offers_file)\n",
    "contacts_file = \"data/contacts.csv\"\n",
    "contacts_path = os.path.join(os.getcwd(), contacts_file)\n",
    "\n",
    "# Datensätze als Pandas-Dataframes laden \n",
    "customers_data = pd.read_csv(customers_path)\n",
    "offers_data = pd.read_csv(offers_path)\n",
    "contacts_data = pd.read_csv(contacts_path)"
   ]
  },
  {
   "attachments": {},
   "cell_type": "markdown",
   "metadata": {},
   "source": [
    "## DataFrames aufräumen"
   ]
  },
  {
   "attachments": {},
   "cell_type": "markdown",
   "metadata": {},
   "source": [
    "### Datensatz Contacts"
   ]
  },
  {
   "cell_type": "code",
   "execution_count": null,
   "metadata": {},
   "outputs": [],
   "source": [
    "# Die ersten beiden Spalten von contacts_data streichen\n",
    "# musste erste Spalte der CSV anpassen um greifen zu können\n",
    "contacts_data = contacts_data.drop(['Unnamed', 'Unnamed: 0'], axis=1) \n",
    "\n",
    "# contacts_data.index = contacts_data[\"person\"] # person zum Index machen"
   ]
  },
  {
   "attachments": {},
   "cell_type": "markdown",
   "metadata": {},
   "source": [
    "### Datensatz Customers"
   ]
  },
  {
   "cell_type": "code",
   "execution_count": null,
   "metadata": {},
   "outputs": [],
   "source": [
    "# For-Schleife zum Vergleichen der Werte in den ersten beiden Spalten\n",
    "# Können die ersten beiden Spalten gestrichen werden?\n",
    "for index, row in customers_data.iterrows():\n",
    "    if row['Unnamed: 0'] - row['Unnamed: 0.1'] != 0:\n",
    "        print(f\"Fehler in Zeile {index+1}: Wert von Spalte B ist ungleich Spalte A\")\n",
    "\n",
    "# Entscheidung dafür, die ersten beiden Spalten von customers_data zu streichen\n",
    "# drop-Funktion gibt es ein neues DataFrame aus\n",
    "customers_data = customers_data.drop(['Unnamed: 0', 'Unnamed: 0.1'], axis=1) \n",
    "\n",
    "# customers_data.index = customers_data[\"cust_id\"] # ID zum Index machen\n",
    "\n",
    "# Datumsangaben in customers.csv zu einem datetime64 Object aus Pandas umwandeln, \n",
    "# um danach weitere Berechnungen machen zu können\n",
    "customers_data[\"became_member_on\"] = pd.to_datetime(customers_data[\"became_member_on\"], format='%Y%m%d')"
   ]
  },
  {
   "cell_type": "code",
   "execution_count": null,
   "metadata": {},
   "outputs": [],
   "source": [
    "# Laut Frau Anderl ist in der Spalte \"age\" 118 lediglich ein Platzhalter für einen leeren Wert\n",
    "# Um Durchschnitt, Median und co. nicht zu verfälschen: Umwandeln zu NaN\n",
    "customers_data.loc[customers_data['age'] == 118, 'age'] = np.nan"
   ]
  },
  {
   "cell_type": "code",
   "execution_count": null,
   "metadata": {},
   "outputs": [],
   "source": [
    "customers_data[(customers_data[\"age\"] == 118)]"
   ]
  },
  {
   "attachments": {},
   "cell_type": "markdown",
   "metadata": {},
   "source": [
    "### Datensatz Offers"
   ]
  },
  {
   "cell_type": "code",
   "execution_count": null,
   "metadata": {},
   "outputs": [],
   "source": [
    "offers_data = offers_data.drop([\"Unnamed\"], axis=1)"
   ]
  },
  {
   "attachments": {},
   "cell_type": "markdown",
   "metadata": {},
   "source": [
    "## Überblick über die Datensätze"
   ]
  },
  {
   "attachments": {},
   "cell_type": "markdown",
   "metadata": {},
   "source": [
    "### Contacts"
   ]
  },
  {
   "cell_type": "code",
   "execution_count": null,
   "metadata": {},
   "outputs": [],
   "source": [
    "contacts_data.info()\n",
    "contacts_data.head()"
   ]
  },
  {
   "cell_type": "code",
   "execution_count": null,
   "metadata": {},
   "outputs": [],
   "source": [
    "contacts_data['event'].unique()"
   ]
  },
  {
   "cell_type": "code",
   "execution_count": null,
   "metadata": {},
   "outputs": [],
   "source": [
    "contacts_data[~contacts_data.event.str.contains(\"transaction\")][\"event\"].unique()"
   ]
  },
  {
   "cell_type": "code",
   "execution_count": null,
   "metadata": {},
   "outputs": [],
   "source": [
    "# Gib mir alle Zeilen aus, die NICHT \"transaction\" enthalten und zähle dann, wie oft welcher\n",
    "# Wert in der Spalte \"val\" vorkommt\n",
    "contacts_data[~contacts_data.event.str.contains(\"transaction\")][\"val\"].value_counts()"
   ]
  },
  {
   "cell_type": "code",
   "execution_count": null,
   "metadata": {},
   "outputs": [],
   "source": [
    "received_data = contacts_data[contacts_data.event.str.contains(\"offer received\")][\"val\"].value_counts()\n",
    "offers_data[\"received\"] = offers_data[\"id\"].map(received_data)"
   ]
  },
  {
   "cell_type": "code",
   "execution_count": null,
   "metadata": {},
   "outputs": [],
   "source": [
    "viewed_data = contacts_data[contacts_data.event.str.contains(\"offer viewed\")][\"val\"].value_counts()\n",
    "offers_data[\"viewed\"] = offers_data[\"id\"].map(viewed_data)"
   ]
  },
  {
   "cell_type": "code",
   "execution_count": null,
   "metadata": {},
   "outputs": [],
   "source": [
    "completed_data = contacts_data[contacts_data.event.str.contains(\"offer completed\")][\"val\"].value_counts()\n",
    "offers_data[\"completed\"] = offers_data[\"id\"].map(completed_data)"
   ]
  },
  {
   "cell_type": "code",
   "execution_count": null,
   "metadata": {},
   "outputs": [],
   "source": [
    "offers_data"
   ]
  },
  {
   "attachments": {},
   "cell_type": "markdown",
   "metadata": {},
   "source": [
    "### Customers"
   ]
  },
  {
   "cell_type": "code",
   "execution_count": null,
   "metadata": {},
   "outputs": [],
   "source": [
    "customers_data.info()\n",
    "customers_data.head()"
   ]
  },
  {
   "attachments": {},
   "cell_type": "markdown",
   "metadata": {},
   "source": [
    "### Offers"
   ]
  },
  {
   "cell_type": "code",
   "execution_count": null,
   "metadata": {},
   "outputs": [],
   "source": [
    "offers_data.info()\n",
    "offers_data.head()"
   ]
  },
  {
   "attachments": {},
   "cell_type": "markdown",
   "metadata": {},
   "source": [
    "## Auswertung"
   ]
  },
  {
   "attachments": {},
   "cell_type": "markdown",
   "metadata": {},
   "source": [
    "Hier schauen wir uns wir uns an, wer wie oft kontaktiert wurde. \n",
    "- Wie ist der Durchschnitt?\n",
    "- Wer sind die 10 Personen, die am häufigsten konktakiert wurden?\n",
    "\n",
    "Weitergehend möglich: \n",
    "- Welche Aussage können wir über die top 10 Personen treffen?\n",
    "- Welche Personen wurden noch nicht kontaktiert?"
   ]
  },
  {
   "cell_type": "code",
   "execution_count": null,
   "metadata": {},
   "outputs": [],
   "source": [
    "contacts_per_person = contacts_data['person'].value_counts()\n",
    "contacts_per_person"
   ]
  },
  {
   "cell_type": "code",
   "execution_count": null,
   "metadata": {},
   "outputs": [],
   "source": [
    "customers_data[\"number of contacts\"] = customers_data[\"cust_id\"].map(contacts_per_person)\n",
    "customers_data.head()"
   ]
  },
  {
   "cell_type": "code",
   "execution_count": null,
   "metadata": {},
   "outputs": [],
   "source": [
    "customers_data[\"number of contacts\"].describe()"
   ]
  },
  {
   "cell_type": "code",
   "execution_count": null,
   "metadata": {},
   "outputs": [],
   "source": [
    "customers_data[customers_data[\"number of contacts\"].isnull()]"
   ]
  },
  {
   "attachments": {},
   "cell_type": "markdown",
   "metadata": {},
   "source": [
    "Wir wollten uns jetzt anschauen, wie lange es dauert, bis Angebote eingelöst werden."
   ]
  },
  {
   "cell_type": "code",
   "execution_count": null,
   "metadata": {},
   "outputs": [],
   "source": [
    "contacts_data.loc[contacts_data[\"event\"] == \"offer received\"]"
   ]
  },
  {
   "cell_type": "code",
   "execution_count": null,
   "metadata": {},
   "outputs": [],
   "source": [
    "# Filtere den contacts_data DataFrame nur für \"offer received\" und \"offer complete\" Ereignisse\n",
    "offer_received = contacts_data.loc[contacts_data[\"event\"] == \"offer received\"]\n",
    "offer_completed = contacts_data.loc[contacts_data[\"event\"] == \"offer complete\"]\n",
    "\n",
    "# Verbinde (merge) die DataFrames basierend auf der Spalte \"person\"\n",
    "merged_data = pd.merge(offer_received, offer_completed, on=\"person\", suffixes=(\"_received\", \"_completed\"))\n",
    "\n",
    "# Berechne die Dauer zwischen \"time_received\" und \"time_completed\"\n",
    "merged_data[\"duration\"] = merged_data[\"time_completed\"] - merged_data[\"time_received\"]\n",
    "\n",
    "# Füge die berechnete Dauer in das ursprüngliche contacts_data DataFrame ein\n",
    "contacts_data = pd.merge(contacts_data, merged_data[[\"person\", \"duration\"]], on=\"person\", how=\"left\")\n",
    "\n",
    "# Aktualisiere die \"duration\" nur für die Zeilen, in denen das Ereignis \"offer received\" vorliegt\n",
    "contacts_data.loc[contacts_data[\"event\"] == \"offer received\", \"duration\"] = contacts_data.loc[contacts_data[\"event\"] == \"offer received\", \"duration\"]\n",
    "\n",
    "# Zeige die aktualisierten Daten an\n",
    "contacts_data.info()\n",
    "\n"
   ]
  },
  {
   "cell_type": "code",
   "execution_count": null,
   "metadata": {},
   "outputs": [],
   "source": [
    "merged_data"
   ]
  },
  {
   "attachments": {},
   "cell_type": "markdown",
   "metadata": {},
   "source": [
    "## Visualisierungen"
   ]
  }
 ],
 "metadata": {
  "kernelspec": {
   "display_name": "Python 3",
   "language": "python",
   "name": "python3"
  },
  "language_info": {
   "codemirror_mode": {
    "name": "ipython",
    "version": 3
   },
   "file_extension": ".py",
   "mimetype": "text/x-python",
   "name": "python",
   "nbconvert_exporter": "python",
   "pygments_lexer": "ipython3",
   "version": "3.8.3"
  },
  "orig_nbformat": 4
 },
 "nbformat": 4,
 "nbformat_minor": 2
}
