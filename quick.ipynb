{
 "cells": [
  {
   "cell_type": "code",
   "execution_count": 2,
   "metadata": {},
   "outputs": [],
   "source": [
    "import pandas as pd # für Datenimport\n",
    "import os # für Dateipfade\n",
    "\n",
    "received_and_completed_file = \"data/received_and_completed.csv\"\n",
    "received_and_completed_path = os.path.join(os.getcwd(), received_and_completed_file)\n",
    "received_and_completed_data = pd.read_csv(received_and_completed_path, sep=\";\")"
   ]
  },
  {
   "cell_type": "code",
   "execution_count": 50,
   "metadata": {},
   "outputs": [],
   "source": [
    "import matplotlib.pyplot as plt\n",
    "import numpy as np"
   ]
  },
  {
   "cell_type": "code",
   "execution_count": null,
   "metadata": {},
   "outputs": [],
   "source": [
    "ypoints = np.array(sorted_customers_data['income'])\n",
    "\n",
    "plt.plot(ypoints, linestyle = 'dotted')"
   ]
  },
  {
   "cell_type": "code",
   "execution_count": 49,
   "metadata": {},
   "outputs": [
    {
     "ename": "AttributeError",
     "evalue": "'Series' object has no attribute 'boxplot'",
     "output_type": "error",
     "traceback": [
      "\u001b[0;31m---------------------------------------------------------------------------\u001b[0m",
      "\u001b[0;31mAttributeError\u001b[0m                            Traceback (most recent call last)",
      "\u001b[0;32m/var/folders/vn/1thxp3x565x158x5d10ybprm0000gn/T/ipykernel_1214/3234388600.py\u001b[0m in \u001b[0;36m<module>\u001b[0;34m\u001b[0m\n\u001b[0;32m----> 1\u001b[0;31m \u001b[0mreceived_and_completed_data\u001b[0m\u001b[0;34m[\u001b[0m\u001b[0;34m\"Delta\"\u001b[0m\u001b[0;34m]\u001b[0m\u001b[0;34m.\u001b[0m\u001b[0mboxplot\u001b[0m\u001b[0;34m(\u001b[0m\u001b[0;34m)\u001b[0m\u001b[0;34m\u001b[0m\u001b[0;34m\u001b[0m\u001b[0m\n\u001b[0m",
      "\u001b[0;32m/Library/Frameworks/Python.framework/Versions/3.8/lib/python3.8/site-packages/pandas/core/generic.py\u001b[0m in \u001b[0;36m__getattr__\u001b[0;34m(self, name)\u001b[0m\n\u001b[1;32m   5463\u001b[0m             \u001b[0;32mif\u001b[0m \u001b[0mself\u001b[0m\u001b[0;34m.\u001b[0m\u001b[0m_info_axis\u001b[0m\u001b[0;34m.\u001b[0m\u001b[0m_can_hold_identifiers_and_holds_name\u001b[0m\u001b[0;34m(\u001b[0m\u001b[0mname\u001b[0m\u001b[0;34m)\u001b[0m\u001b[0;34m:\u001b[0m\u001b[0;34m\u001b[0m\u001b[0;34m\u001b[0m\u001b[0m\n\u001b[1;32m   5464\u001b[0m                 \u001b[0;32mreturn\u001b[0m \u001b[0mself\u001b[0m\u001b[0;34m[\u001b[0m\u001b[0mname\u001b[0m\u001b[0;34m]\u001b[0m\u001b[0;34m\u001b[0m\u001b[0;34m\u001b[0m\u001b[0m\n\u001b[0;32m-> 5465\u001b[0;31m             \u001b[0;32mreturn\u001b[0m \u001b[0mobject\u001b[0m\u001b[0;34m.\u001b[0m\u001b[0m__getattribute__\u001b[0m\u001b[0;34m(\u001b[0m\u001b[0mself\u001b[0m\u001b[0;34m,\u001b[0m \u001b[0mname\u001b[0m\u001b[0;34m)\u001b[0m\u001b[0;34m\u001b[0m\u001b[0;34m\u001b[0m\u001b[0m\n\u001b[0m\u001b[1;32m   5466\u001b[0m \u001b[0;34m\u001b[0m\u001b[0m\n\u001b[1;32m   5467\u001b[0m     \u001b[0;32mdef\u001b[0m \u001b[0m__setattr__\u001b[0m\u001b[0;34m(\u001b[0m\u001b[0mself\u001b[0m\u001b[0;34m,\u001b[0m \u001b[0mname\u001b[0m\u001b[0;34m:\u001b[0m \u001b[0mstr\u001b[0m\u001b[0;34m,\u001b[0m \u001b[0mvalue\u001b[0m\u001b[0;34m)\u001b[0m \u001b[0;34m->\u001b[0m \u001b[0;32mNone\u001b[0m\u001b[0;34m:\u001b[0m\u001b[0;34m\u001b[0m\u001b[0;34m\u001b[0m\u001b[0m\n",
      "\u001b[0;31mAttributeError\u001b[0m: 'Series' object has no attribute 'boxplot'"
     ]
    }
   ],
   "source": [
    "ypoints = np.array(received_and_completed_data[\"Delta\"])\n",
    "\n",
    "plt.boxplot()"
   ]
  },
  {
   "cell_type": "code",
   "execution_count": 5,
   "metadata": {},
   "outputs": [
    {
     "data": {
      "text/html": [
       "<div>\n",
       "<style scoped>\n",
       "    .dataframe tbody tr th:only-of-type {\n",
       "        vertical-align: middle;\n",
       "    }\n",
       "\n",
       "    .dataframe tbody tr th {\n",
       "        vertical-align: top;\n",
       "    }\n",
       "\n",
       "    .dataframe thead th {\n",
       "        text-align: right;\n",
       "    }\n",
       "</style>\n",
       "<table border=\"1\" class=\"dataframe\">\n",
       "  <thead>\n",
       "    <tr style=\"text-align: right;\">\n",
       "      <th></th>\n",
       "      <th>person</th>\n",
       "      <th>event</th>\n",
       "      <th>time</th>\n",
       "      <th>type</th>\n",
       "      <th>val</th>\n",
       "      <th>Received</th>\n",
       "      <th>Delta</th>\n",
       "    </tr>\n",
       "  </thead>\n",
       "  <tbody>\n",
       "    <tr>\n",
       "      <th>10111</th>\n",
       "      <td>9fa9ae8f57894cc9a3b8a9bbe0fc1b2f</td>\n",
       "      <td>completed</td>\n",
       "      <td>0</td>\n",
       "      <td>offer_id</td>\n",
       "      <td>a5</td>\n",
       "      <td>0.0</td>\n",
       "      <td>0.0</td>\n",
       "    </tr>\n",
       "    <tr>\n",
       "      <th>10112</th>\n",
       "      <td>fe97aa22dd3e48c8b143116a8403dd52</td>\n",
       "      <td>completed</td>\n",
       "      <td>0</td>\n",
       "      <td>offer_id</td>\n",
       "      <td>a4</td>\n",
       "      <td>0.0</td>\n",
       "      <td>0.0</td>\n",
       "    </tr>\n",
       "    <tr>\n",
       "      <th>10113</th>\n",
       "      <td>629fc02d56414d91bca360decdfa9288</td>\n",
       "      <td>completed</td>\n",
       "      <td>0</td>\n",
       "      <td>offer_id</td>\n",
       "      <td>d9</td>\n",
       "      <td>0.0</td>\n",
       "      <td>0.0</td>\n",
       "    </tr>\n",
       "    <tr>\n",
       "      <th>10114</th>\n",
       "      <td>676506bad68e4161b9bbaffeb039626b</td>\n",
       "      <td>completed</td>\n",
       "      <td>0</td>\n",
       "      <td>offer_id</td>\n",
       "      <td>fd</td>\n",
       "      <td>0.0</td>\n",
       "      <td>0.0</td>\n",
       "    </tr>\n",
       "    <tr>\n",
       "      <th>10115</th>\n",
       "      <td>8f7dd3b2afe14c078eb4f6e6fe4ba97d</td>\n",
       "      <td>completed</td>\n",
       "      <td>0</td>\n",
       "      <td>offer_id</td>\n",
       "      <td>a0</td>\n",
       "      <td>0.0</td>\n",
       "      <td>0.0</td>\n",
       "    </tr>\n",
       "  </tbody>\n",
       "</table>\n",
       "</div>"
      ],
      "text/plain": [
       "                                 person      event  time      type val  \\\n",
       "10111  9fa9ae8f57894cc9a3b8a9bbe0fc1b2f  completed     0  offer_id  a5   \n",
       "10112  fe97aa22dd3e48c8b143116a8403dd52  completed     0  offer_id  a4   \n",
       "10113  629fc02d56414d91bca360decdfa9288  completed     0  offer_id  d9   \n",
       "10114  676506bad68e4161b9bbaffeb039626b  completed     0  offer_id  fd   \n",
       "10115  8f7dd3b2afe14c078eb4f6e6fe4ba97d  completed     0  offer_id  a0   \n",
       "\n",
       "       Received  Delta  \n",
       "10111       0.0    0.0  \n",
       "10112       0.0    0.0  \n",
       "10113       0.0    0.0  \n",
       "10114       0.0    0.0  \n",
       "10115       0.0    0.0  "
      ]
     },
     "execution_count": 5,
     "metadata": {},
     "output_type": "execute_result"
    }
   ],
   "source": [
    "received_and_completed_data = received_and_completed_data.drop(['ID', 'Search'], axis=1) # drop-Funktion gibt es ein neues DataFrame aus\n",
    "received_and_completed_data.head()"
   ]
  },
  {
   "cell_type": "code",
   "execution_count": 4,
   "metadata": {},
   "outputs": [],
   "source": [
    "received_and_completed_data = received_and_completed_data.drop(received_and_completed_data[received_and_completed_data.event == \"received\"].index)"
   ]
  },
  {
   "cell_type": "code",
   "execution_count": 7,
   "metadata": {},
   "outputs": [
    {
     "data": {
      "text/plain": [
       "array(['a5', 'a4', 'd9', 'fd', 'a0', 'c2', '20d', 'd7'], dtype=object)"
      ]
     },
     "execution_count": 7,
     "metadata": {},
     "output_type": "execute_result"
    }
   ],
   "source": [
    "received_and_completed_data[\"val\"].unique()"
   ]
  },
  {
   "cell_type": "code",
   "execution_count": 19,
   "metadata": {},
   "outputs": [
    {
     "data": {
      "text/plain": [
       "count    33579.000000\n",
       "mean       109.740731\n",
       "std        130.075852\n",
       "min          0.000000\n",
       "25%         30.000000\n",
       "50%         66.000000\n",
       "75%        132.000000\n",
       "max        714.000000\n",
       "Name: Delta, dtype: float64"
      ]
     },
     "execution_count": 19,
     "metadata": {},
     "output_type": "execute_result"
    }
   ],
   "source": [
    "received_and_completed_data.Delta.describe()"
   ]
  },
  {
   "cell_type": "code",
   "execution_count": 46,
   "metadata": {},
   "outputs": [
    {
     "data": {
      "text/plain": [
       "count    483.000000\n",
       "mean     418.310559\n",
       "std      125.226346\n",
       "min      246.000000\n",
       "25%      306.000000\n",
       "50%      402.000000\n",
       "75%      522.000000\n",
       "max      714.000000\n",
       "Name: Delta, dtype: float64"
      ]
     },
     "execution_count": 46,
     "metadata": {},
     "output_type": "execute_result"
    }
   ],
   "source": [
    "# ALL BOGO\n",
    "\n",
    "received_and_completed_data[\"Delta\"].loc[(received_and_completed_data[\"Delta\"] > 240) & \n",
    "                                         (received_and_completed_data[\"val\"] == \"a5\")].describe()"
   ]
  },
  {
   "cell_type": "code",
   "execution_count": null,
   "metadata": {},
   "outputs": [],
   "source": [
    "# ALL DISCOUNTS\n",
    "\n"
   ]
  },
  {
   "cell_type": "code",
   "execution_count": 20,
   "metadata": {},
   "outputs": [
    {
     "data": {
      "text/plain": [
       "count    4017.000000\n",
       "mean      113.940254\n",
       "std       130.649269\n",
       "min         0.000000\n",
       "25%        30.000000\n",
       "50%        72.000000\n",
       "75%       138.000000\n",
       "max       714.000000\n",
       "Name: Delta, dtype: float64"
      ]
     },
     "execution_count": 20,
     "metadata": {},
     "output_type": "execute_result"
    }
   ],
   "source": [
    "received_and_completed_data[\"Delta\"].loc[received_and_completed_data[\"val\"] == \"a5\"].describe()"
   ]
  },
  {
   "cell_type": "code",
   "execution_count": null,
   "metadata": {},
   "outputs": [],
   "source": [
    "rece"
   ]
  },
  {
   "cell_type": "code",
   "execution_count": 44,
   "metadata": {},
   "outputs": [
    {
     "data": {
      "text/html": [
       "<div>\n",
       "<style scoped>\n",
       "    .dataframe tbody tr th:only-of-type {\n",
       "        vertical-align: middle;\n",
       "    }\n",
       "\n",
       "    .dataframe tbody tr th {\n",
       "        vertical-align: top;\n",
       "    }\n",
       "\n",
       "    .dataframe thead th {\n",
       "        text-align: right;\n",
       "    }\n",
       "</style>\n",
       "<table border=\"1\" class=\"dataframe\">\n",
       "  <thead>\n",
       "    <tr style=\"text-align: right;\">\n",
       "      <th></th>\n",
       "      <th>time</th>\n",
       "      <th>Received</th>\n",
       "      <th>Delta</th>\n",
       "    </tr>\n",
       "  </thead>\n",
       "  <tbody>\n",
       "    <tr>\n",
       "      <th>count</th>\n",
       "      <td>1893.000000</td>\n",
       "      <td>1893.0</td>\n",
       "      <td>1893.000000</td>\n",
       "    </tr>\n",
       "    <tr>\n",
       "      <th>mean</th>\n",
       "      <td>496.554675</td>\n",
       "      <td>0.0</td>\n",
       "      <td>496.554675</td>\n",
       "    </tr>\n",
       "    <tr>\n",
       "      <th>std</th>\n",
       "      <td>111.831281</td>\n",
       "      <td>0.0</td>\n",
       "      <td>111.831281</td>\n",
       "    </tr>\n",
       "    <tr>\n",
       "      <th>min</th>\n",
       "      <td>246.000000</td>\n",
       "      <td>0.0</td>\n",
       "      <td>246.000000</td>\n",
       "    </tr>\n",
       "    <tr>\n",
       "      <th>25%</th>\n",
       "      <td>408.000000</td>\n",
       "      <td>0.0</td>\n",
       "      <td>408.000000</td>\n",
       "    </tr>\n",
       "    <tr>\n",
       "      <th>50%</th>\n",
       "      <td>510.000000</td>\n",
       "      <td>0.0</td>\n",
       "      <td>510.000000</td>\n",
       "    </tr>\n",
       "    <tr>\n",
       "      <th>75%</th>\n",
       "      <td>588.000000</td>\n",
       "      <td>0.0</td>\n",
       "      <td>588.000000</td>\n",
       "    </tr>\n",
       "    <tr>\n",
       "      <th>max</th>\n",
       "      <td>714.000000</td>\n",
       "      <td>0.0</td>\n",
       "      <td>714.000000</td>\n",
       "    </tr>\n",
       "  </tbody>\n",
       "</table>\n",
       "</div>"
      ],
      "text/plain": [
       "              time  Received        Delta\n",
       "count  1893.000000    1893.0  1893.000000\n",
       "mean    496.554675       0.0   496.554675\n",
       "std     111.831281       0.0   111.831281\n",
       "min     246.000000       0.0   246.000000\n",
       "25%     408.000000       0.0   408.000000\n",
       "50%     510.000000       0.0   510.000000\n",
       "75%     588.000000       0.0   588.000000\n",
       "max     714.000000       0.0   714.000000"
      ]
     },
     "execution_count": 44,
     "metadata": {},
     "output_type": "execute_result"
    }
   ],
   "source": [
    "received_and_completed_data.loc[(received_and_completed_data[\"Received\"] == 0) & (received_and_completed_data[\"Delta\"] > 240)].describe()"
   ]
  },
  {
   "cell_type": "code",
   "execution_count": 22,
   "metadata": {},
   "outputs": [
    {
     "data": {
      "text/plain": [
       "count    4354.000000\n",
       "mean      105.209463\n",
       "std       124.189686\n",
       "min         0.000000\n",
       "25%        24.000000\n",
       "50%        66.000000\n",
       "75%       126.000000\n",
       "max       714.000000\n",
       "Name: Delta, dtype: float64"
      ]
     },
     "execution_count": 22,
     "metadata": {},
     "output_type": "execute_result"
    }
   ],
   "source": [
    "received_and_completed_data[\"Delta\"].loc[received_and_completed_data[\"val\"] == \"d9\"].describe()"
   ]
  },
  {
   "cell_type": "code",
   "execution_count": 23,
   "metadata": {},
   "outputs": [
    {
     "data": {
      "text/plain": [
       "count    3688.000000\n",
       "mean      103.259219\n",
       "std       129.256403\n",
       "min         0.000000\n",
       "25%        24.000000\n",
       "50%        60.000000\n",
       "75%       120.000000\n",
       "max       714.000000\n",
       "Name: Delta, dtype: float64"
      ]
     },
     "execution_count": 23,
     "metadata": {},
     "output_type": "execute_result"
    }
   ],
   "source": [
    "received_and_completed_data[\"Delta\"].loc[received_and_completed_data[\"val\"] == \"fd\"].describe()"
   ]
  },
  {
   "cell_type": "code",
   "execution_count": 24,
   "metadata": {},
   "outputs": [
    {
     "data": {
      "text/plain": [
       "count    3331.000000\n",
       "mean       92.044431\n",
       "std       128.312805\n",
       "min         0.000000\n",
       "25%        18.000000\n",
       "50%        48.000000\n",
       "75%        96.000000\n",
       "max       690.000000\n",
       "Name: Delta, dtype: float64"
      ]
     },
     "execution_count": 24,
     "metadata": {},
     "output_type": "execute_result"
    }
   ],
   "source": [
    "received_and_completed_data[\"Delta\"].loc[received_and_completed_data[\"val\"] == \"a0\"].describe()"
   ]
  },
  {
   "cell_type": "code",
   "execution_count": 25,
   "metadata": {},
   "outputs": [
    {
     "data": {
      "text/plain": [
       "count    5156.000000\n",
       "mean      105.140807\n",
       "std       128.864032\n",
       "min         0.000000\n",
       "25%        24.000000\n",
       "50%        60.000000\n",
       "75%       126.000000\n",
       "max       714.000000\n",
       "Name: Delta, dtype: float64"
      ]
     },
     "execution_count": 25,
     "metadata": {},
     "output_type": "execute_result"
    }
   ],
   "source": [
    "received_and_completed_data[\"Delta\"].loc[received_and_completed_data[\"val\"] == \"c2\"].describe()"
   ]
  },
  {
   "cell_type": "code",
   "execution_count": 26,
   "metadata": {},
   "outputs": [
    {
     "data": {
      "text/plain": [
       "count    4296.000000\n",
       "mean       91.427374\n",
       "std       127.729027\n",
       "min         0.000000\n",
       "25%        18.000000\n",
       "50%        48.000000\n",
       "75%        96.000000\n",
       "max       690.000000\n",
       "Name: Delta, dtype: float64"
      ]
     },
     "execution_count": 26,
     "metadata": {},
     "output_type": "execute_result"
    }
   ],
   "source": [
    "received_and_completed_data[\"Delta\"].loc[received_and_completed_data[\"val\"] == \"20d\"].describe()"
   ]
  },
  {
   "cell_type": "code",
   "execution_count": 27,
   "metadata": {},
   "outputs": [
    {
     "data": {
      "text/plain": [
       "count    3420.000000\n",
       "mean      148.391228\n",
       "std       130.425040\n",
       "min         0.000000\n",
       "25%        60.000000\n",
       "50%       120.000000\n",
       "75%       192.000000\n",
       "max       714.000000\n",
       "Name: Delta, dtype: float64"
      ]
     },
     "execution_count": 27,
     "metadata": {},
     "output_type": "execute_result"
    }
   ],
   "source": [
    "received_and_completed_data[\"Delta\"].loc[received_and_completed_data[\"val\"] == \"d7\"].describe()"
   ]
  },
  {
   "attachments": {},
   "cell_type": "markdown",
   "metadata": {},
   "source": []
  },
  {
   "cell_type": "code",
   "execution_count": 28,
   "metadata": {},
   "outputs": [],
   "source": [
    "# customers_data[(customers_data[\"income\"].notna() == True)]"
   ]
  },
  {
   "cell_type": "code",
   "execution_count": 29,
   "metadata": {},
   "outputs": [],
   "source": [
    "# contacts_data.describe()"
   ]
  },
  {
   "cell_type": "code",
   "execution_count": 30,
   "metadata": {},
   "outputs": [
    {
     "ename": "NameError",
     "evalue": "name 'customers_data' is not defined",
     "output_type": "error",
     "traceback": [
      "\u001b[0;31m---------------------------------------------------------------------------\u001b[0m",
      "\u001b[0;31mNameError\u001b[0m                                 Traceback (most recent call last)",
      "\u001b[0;32m/var/folders/vn/1thxp3x565x158x5d10ybprm0000gn/T/ipykernel_1214/2115286545.py\u001b[0m in \u001b[0;36m<module>\u001b[0;34m\u001b[0m\n\u001b[0;32m----> 1\u001b[0;31m \u001b[0mcustomers_data\u001b[0m\u001b[0;34m.\u001b[0m\u001b[0mbecame_member_on\u001b[0m \u001b[0;34m=\u001b[0m \u001b[0mpd\u001b[0m\u001b[0;34m.\u001b[0m\u001b[0mto_datetime\u001b[0m\u001b[0;34m(\u001b[0m\u001b[0mcustomers_data\u001b[0m\u001b[0;34m.\u001b[0m\u001b[0mbecame_member_on\u001b[0m\u001b[0;34m,\u001b[0m \u001b[0mformat\u001b[0m\u001b[0;34m=\u001b[0m\u001b[0;34m'%Y%m%d'\u001b[0m\u001b[0;34m)\u001b[0m\u001b[0;34m\u001b[0m\u001b[0;34m\u001b[0m\u001b[0m\n\u001b[0m\u001b[1;32m      2\u001b[0m \u001b[0mcustomers_data\u001b[0m\u001b[0;34m.\u001b[0m\u001b[0mbecame_member_on\u001b[0m\u001b[0;34m\u001b[0m\u001b[0;34m\u001b[0m\u001b[0m\n",
      "\u001b[0;31mNameError\u001b[0m: name 'customers_data' is not defined"
     ]
    }
   ],
   "source": [
    "customers_data.became_member_on = pd.to_datetime(customers_data.became_member_on, format='%Y%m%d')\n",
    "customers_data.became_member_on"
   ]
  },
  {
   "cell_type": "code",
   "execution_count": null,
   "metadata": {},
   "outputs": [],
   "source": []
  },
  {
   "cell_type": "code",
   "execution_count": null,
   "metadata": {},
   "outputs": [],
   "source": [
    "# Beispiel-Datenframe mit zwei Spalten \"Startdatum\" und \"Enddatum\"\n",
    "df = pd.DataFrame({'Startdatum': ['2021-05-16', '2021-05-17', '2021-05-18'],\n",
    "                   'Enddatum': ['2021-05-20', '2021-05-19', '2021-05-22']})\n",
    "\n",
    "# Konvertierung der Spalten in ein Datumsformat\n",
    "df['Startdatum'] = pd.to_datetime(df['Startdatum'])\n",
    "df['Enddatum'] = pd.to_datetime(df['Enddatum'])\n",
    "\n",
    "# Berechnung der Zeitdifferenz zwischen den Datumsangaben\n",
    "df['Zeitdifferenz'] = df['Enddatum'] - df['Startdatum']\n",
    "\n",
    "# Ausgabe des aktualisierten Datenframes\n",
    "print(df)"
   ]
  },
  {
   "cell_type": "code",
   "execution_count": null,
   "metadata": {},
   "outputs": [],
   "source": [
    "import pandas as pd\n",
    "\n",
    "# Beispiel-Datenframe mit einer Spalte \"Datum\"\n",
    "df = pd.DataFrame({'Datum': ['2021-05-16', '2021-05-17', '2021-05-18']})\n",
    "\n",
    "# Konvertierung der Spalte \"Datum\" in ein Datumsformat\n",
    "df['Datum'] = pd.to_datetime(df['Datum'])\n",
    "\n",
    "# Hinzufügen von 10 Tagen zur Spalte \"Datum\"\n",
    "df['Datum_plus_10_Tage'] = df['Datum'] + pd.DateOffset(days=10)\n",
    "\n",
    "# Ausgabe des aktualisierten Datenframes\n",
    "print(df)"
   ]
  },
  {
   "cell_type": "code",
   "execution_count": null,
   "metadata": {},
   "outputs": [],
   "source": [
    "contacts_data[\"val\"][contacts_data[\"val\"].str.contains(\"d7\")].count()"
   ]
  },
  {
   "cell_type": "code",
   "execution_count": null,
   "metadata": {},
   "outputs": [],
   "source": [
    "customers_offers = pd.merge(customers_data, contacts_data, left_on=\"cust_id\", right_on=\"person\")\n",
    "customers_offers"
   ]
  },
  {
   "cell_type": "code",
   "execution_count": null,
   "metadata": {},
   "outputs": [],
   "source": [
    "customers_offers.corr()"
   ]
  },
  {
   "cell_type": "code",
   "execution_count": null,
   "metadata": {},
   "outputs": [],
   "source": [
    "contacts_data = contacts_data.drop(['Unnamed', 'Unnamed: 0'], axis=1) "
   ]
  },
  {
   "cell_type": "code",
   "execution_count": null,
   "metadata": {},
   "outputs": [],
   "source": [
    "contacts_data.head()"
   ]
  }
 ],
 "metadata": {
  "kernelspec": {
   "display_name": "Python 3",
   "language": "python",
   "name": "python3"
  },
  "language_info": {
   "codemirror_mode": {
    "name": "ipython",
    "version": 3
   },
   "file_extension": ".py",
   "mimetype": "text/x-python",
   "name": "python",
   "nbconvert_exporter": "python",
   "pygments_lexer": "ipython3",
   "version": "3.8.3"
  },
  "orig_nbformat": 4
 },
 "nbformat": 4,
 "nbformat_minor": 2
}
