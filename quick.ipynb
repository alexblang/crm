{
 "cells": [
  {
   "cell_type": "code",
   "execution_count": 1,
   "metadata": {},
   "outputs": [],
   "source": [
    "import pandas as pd # für Datenimport\n",
    "import os # für Dateipfade"
   ]
  },
  {
   "cell_type": "code",
   "execution_count": 2,
   "metadata": {},
   "outputs": [],
   "source": [
    "customers_file = \"data/customers.csv\"\n",
    "customers_path = os.path.join(os.getcwd(), customers_file)\n",
    "customers_data = pd.read_csv(customers_path)\n",
    "offers_file = \"data/offers.csv\"\n",
    "offers_path = os.path.join(os.getcwd(), offers_file)\n",
    "offers_data = pd.read_csv(offers_path)\n",
    "contacts_file = \"data/contacts.csv\"\n",
    "contacts_path = os.path.join(os.getcwd(), contacts_file)\n",
    "contacts_data = pd.read_csv(contacts_path)"
   ]
  },
  {
   "cell_type": "code",
   "execution_count": null,
   "metadata": {},
   "outputs": [],
   "source": [
    "print(\"hallo\")"
   ]
  }
 ],
 "metadata": {
  "kernelspec": {
   "display_name": "Python 3",
   "language": "python",
   "name": "python3"
  },
  "language_info": {
   "codemirror_mode": {
    "name": "ipython",
    "version": 3
   },
   "file_extension": ".py",
   "mimetype": "text/x-python",
   "name": "python",
   "nbconvert_exporter": "python",
   "pygments_lexer": "ipython3",
   "version": "3.8.3"
  },
  "orig_nbformat": 4
 },
 "nbformat": 4,
 "nbformat_minor": 2
}
